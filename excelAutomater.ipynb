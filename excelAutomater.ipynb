{
 "cells": [
  {
   "cell_type": "code",
   "execution_count": 19,
   "outputs": [],
   "source": [
    "import pandas as pd\n",
    "import yfinance as yf\n",
    "import datetime as dt\n",
    "import xlsxwriter\n",
    "import math\n",
    "import statistics\n",
    "from matplotlib import pyplot as plt\n",
    "import plotly.express as px\n",
    "import plotly.graph_objects as go\n",
    "from jupyter_dash import JupyterDash\n",
    "import dash_core_components as dcc\n",
    "import dash_html_components as html\n",
    "from dash.dependencies import Input, Output\n",
    "from dash import callback_context\n",
    "import numpy as np\n",
    "\n",
    "from matplotlib import pyplot as plt\n",
    "import random\n",
    "import pandas_datareader as pdr\n",
    "from matplotlib.pyplot import cm"
   ],
   "metadata": {
    "collapsed": false,
    "pycharm": {
     "name": "#%%\n"
    }
   }
  },
  {
   "cell_type": "code",
   "execution_count": 2,
   "outputs": [],
   "source": [
    "def generate_df(ticker, start_date='2021-1-1', volatilityDays=50, calendarYear=365):\n",
    "    df = yf.download(ticker, start_date, end = '2022-06-30')\n",
    "    df = df.drop([\"Open\", \"High\", \"Low\", \"Volume\", \"Close\"], axis=1)\n",
    "    df = df.reset_index()\n",
    "    df[\"Px Change\"] = None\n",
    "    df[\"Volatility\"] = None\n",
    "    closes = df[\"Adj Close\"].tolist()\n",
    "    for i in range(1, len(df)):\n",
    "        df.iat[i, 2] =round((math.log(df.iloc[i, 1] / df.iloc[i-1, 1])),\n",
    "                            4)\n",
    "        if i >= volatilityDays:\n",
    "            df.iat[i, 3] = round((statistics.stdev(closes[i-50:i]) * math.sqrt(calendarYear)), 4) / 100\n",
    "    df['Adj Close'] = df['Adj Close'].apply(lambda x: round(x, 2))\n",
    "    volatilities = df[\"Volatility\"][50:].tolist()\n",
    "    meanVol = statistics.mean(volatilities)\n",
    "    prices = df[\"Adj Close\"].tolist()\n",
    "    meanPrice = statistics.mean(prices)\n",
    "    factor = meanPrice / meanVol\n",
    "    df[\"Adj Vol\"] = df[\"Volatility\"] * factor\n",
    "    for i in range(50):\n",
    "        df.iat[i, 4] = None\n",
    "    return df"
   ],
   "metadata": {
    "collapsed": false,
    "pycharm": {
     "name": "#%%\n"
    }
   }
  },
  {
   "cell_type": "code",
   "execution_count": 308,
   "outputs": [],
   "source": [],
   "metadata": {
    "collapsed": false,
    "pycharm": {
     "name": "#%%\n"
    }
   }
  },
  {
   "cell_type": "code",
   "execution_count": 3,
   "outputs": [],
   "source": [
    "data = pd.read_html('https://en.wikipedia.org/wiki/List_of_S%26P_500_companies')\n",
    "df = data[0]\n",
    "stocks = df['Symbol'].values.tolist()"
   ],
   "metadata": {
    "collapsed": false,
    "pycharm": {
     "name": "#%%\n"
    }
   }
  },
  {
   "cell_type": "code",
   "execution_count": 4,
   "outputs": [
    {
     "data": {
      "text/plain": "['MMM',\n 'AOS',\n 'ABT',\n 'ABBV',\n 'ABMD',\n 'ACN',\n 'ATVI',\n 'ADM',\n 'ADBE',\n 'ADP',\n 'AAP',\n 'AES',\n 'AFL',\n 'A',\n 'APD',\n 'AKAM',\n 'ALK',\n 'ALB',\n 'ARE',\n 'ALGN',\n 'ALLE',\n 'LNT',\n 'ALL',\n 'GOOGL',\n 'GOOG',\n 'MO',\n 'AMZN',\n 'AMCR',\n 'AMD',\n 'AEE',\n 'AAL',\n 'AEP',\n 'AXP',\n 'AIG',\n 'AMT',\n 'AWK',\n 'AMP',\n 'ABC',\n 'AME',\n 'AMGN',\n 'APH',\n 'ADI',\n 'ANSS',\n 'AON',\n 'APA',\n 'AAPL',\n 'AMAT',\n 'APTV',\n 'ANET',\n 'AJG',\n 'AIZ',\n 'T',\n 'ATO',\n 'ADSK',\n 'AZO',\n 'AVB',\n 'AVY',\n 'BKR',\n 'BALL',\n 'BAC',\n 'BBWI',\n 'BAX',\n 'BDX',\n 'WRB',\n 'BRK.B',\n 'BBY',\n 'BIO',\n 'TECH',\n 'BIIB',\n 'BLK',\n 'BK',\n 'BA',\n 'BKNG',\n 'BWA',\n 'BXP',\n 'BSX',\n 'BMY',\n 'AVGO',\n 'BR',\n 'BRO',\n 'BF.B',\n 'CHRW',\n 'CDNS',\n 'CZR',\n 'CPT',\n 'CPB',\n 'COF',\n 'CAH',\n 'KMX',\n 'CCL',\n 'CARR',\n 'CTLT',\n 'CAT',\n 'CBOE',\n 'CBRE',\n 'CDW',\n 'CE',\n 'CNC',\n 'CNP',\n 'CDAY',\n 'CF',\n 'CRL',\n 'SCHW',\n 'CHTR',\n 'CVX',\n 'CMG',\n 'CB',\n 'CHD',\n 'CI',\n 'CINF',\n 'CTAS',\n 'CSCO',\n 'C',\n 'CFG',\n 'CTXS',\n 'CLX',\n 'CME',\n 'CMS',\n 'KO',\n 'CTSH',\n 'CL',\n 'CMCSA',\n 'CMA',\n 'CAG',\n 'COP',\n 'ED',\n 'STZ',\n 'CEG',\n 'COO',\n 'CPRT',\n 'GLW',\n 'CTVA',\n 'COST',\n 'CTRA',\n 'CCI',\n 'CSX',\n 'CMI',\n 'CVS',\n 'DHI',\n 'DHR',\n 'DRI',\n 'DVA',\n 'DE',\n 'DAL',\n 'XRAY',\n 'DVN',\n 'DXCM',\n 'FANG',\n 'DLR',\n 'DFS',\n 'DISH',\n 'DIS',\n 'DG',\n 'DLTR',\n 'D',\n 'DPZ',\n 'DOV',\n 'DOW',\n 'DTE',\n 'DUK',\n 'DRE',\n 'DD',\n 'DXC',\n 'EMN',\n 'ETN',\n 'EBAY',\n 'ECL',\n 'EIX',\n 'EW',\n 'EA',\n 'ELV',\n 'LLY',\n 'EMR',\n 'ENPH',\n 'ETR',\n 'EOG',\n 'EPAM',\n 'EFX',\n 'EQIX',\n 'EQR',\n 'ESS',\n 'EL',\n 'ETSY',\n 'RE',\n 'EVRG',\n 'ES',\n 'EXC',\n 'EXPE',\n 'EXPD',\n 'EXR',\n 'XOM',\n 'FFIV',\n 'FDS',\n 'FAST',\n 'FRT',\n 'FDX',\n 'FITB',\n 'FRC',\n 'FE',\n 'FIS',\n 'FISV',\n 'FLT',\n 'FMC',\n 'F',\n 'FTNT',\n 'FTV',\n 'FBHS',\n 'FOXA',\n 'FOX',\n 'BEN',\n 'FCX',\n 'GRMN',\n 'IT',\n 'GNRC',\n 'GD',\n 'GE',\n 'GIS',\n 'GM',\n 'GPC',\n 'GILD',\n 'GL',\n 'GPN',\n 'GS',\n 'HAL',\n 'HIG',\n 'HAS',\n 'HCA',\n 'PEAK',\n 'HSIC',\n 'HSY',\n 'HES',\n 'HPE',\n 'HLT',\n 'HOLX',\n 'HD',\n 'HON',\n 'HRL',\n 'HST',\n 'HWM',\n 'HPQ',\n 'HUM',\n 'HBAN',\n 'HII',\n 'IBM',\n 'IEX',\n 'IDXX',\n 'ITW',\n 'ILMN',\n 'INCY',\n 'IR',\n 'INTC',\n 'ICE',\n 'IP',\n 'IPG',\n 'IFF',\n 'INTU',\n 'ISRG',\n 'IVZ',\n 'IQV',\n 'IRM',\n 'JBHT',\n 'JKHY',\n 'J',\n 'JNJ',\n 'JCI',\n 'JPM',\n 'JNPR',\n 'K',\n 'KDP',\n 'KEY',\n 'KEYS',\n 'KMB',\n 'KIM',\n 'KMI',\n 'KLAC',\n 'KHC',\n 'KR',\n 'LHX',\n 'LH',\n 'LRCX',\n 'LW',\n 'LVS',\n 'LDOS',\n 'LEN',\n 'LNC',\n 'LIN',\n 'LYV',\n 'LKQ',\n 'LMT',\n 'L',\n 'LOW',\n 'LUMN',\n 'LYB',\n 'MTB',\n 'MRO',\n 'MPC',\n 'MKTX',\n 'MAR',\n 'MMC',\n 'MLM',\n 'MAS',\n 'MA',\n 'MTCH',\n 'MKC',\n 'MCD',\n 'MCK',\n 'MDT',\n 'MRK',\n 'META',\n 'MET',\n 'MTD',\n 'MGM',\n 'MCHP',\n 'MU',\n 'MSFT',\n 'MAA',\n 'MRNA',\n 'MHK',\n 'MOH',\n 'TAP',\n 'MDLZ',\n 'MPWR',\n 'MNST',\n 'MCO',\n 'MS',\n 'MOS',\n 'MSI',\n 'MSCI',\n 'NDAQ',\n 'NTAP',\n 'NFLX',\n 'NWL',\n 'NEM',\n 'NWSA',\n 'NWS',\n 'NEE',\n 'NLSN',\n 'NKE',\n 'NI',\n 'NDSN',\n 'NSC',\n 'NTRS',\n 'NOC',\n 'NLOK',\n 'NCLH',\n 'NRG',\n 'NUE',\n 'NVDA',\n 'NVR',\n 'NXPI',\n 'ORLY',\n 'OXY',\n 'ODFL',\n 'OMC',\n 'ON',\n 'OKE',\n 'ORCL',\n 'OGN',\n 'OTIS',\n 'PCAR',\n 'PKG',\n 'PARA',\n 'PH',\n 'PAYX',\n 'PAYC',\n 'PYPL',\n 'PENN',\n 'PNR',\n 'PEP',\n 'PKI',\n 'PFE',\n 'PM',\n 'PSX',\n 'PNW',\n 'PXD',\n 'PNC',\n 'POOL',\n 'PPG',\n 'PPL',\n 'PFG',\n 'PG',\n 'PGR',\n 'PLD',\n 'PRU',\n 'PEG',\n 'PTC',\n 'PSA',\n 'PHM',\n 'PVH',\n 'QRVO',\n 'PWR',\n 'QCOM',\n 'DGX',\n 'RL',\n 'RJF',\n 'RTX',\n 'O',\n 'REG',\n 'REGN',\n 'RF',\n 'RSG',\n 'RMD',\n 'RHI',\n 'ROK',\n 'ROL',\n 'ROP',\n 'ROST',\n 'RCL',\n 'SPGI',\n 'CRM',\n 'SBAC',\n 'SLB',\n 'STX',\n 'SEE',\n 'SRE',\n 'NOW',\n 'SHW',\n 'SBNY',\n 'SPG',\n 'SWKS',\n 'SJM',\n 'SNA',\n 'SEDG',\n 'SO',\n 'LUV',\n 'SWK',\n 'SBUX',\n 'STT',\n 'STE',\n 'SYK',\n 'SIVB',\n 'SYF',\n 'SNPS',\n 'SYY',\n 'TMUS',\n 'TROW',\n 'TTWO',\n 'TPR',\n 'TGT',\n 'TEL',\n 'TDY',\n 'TFX',\n 'TER',\n 'TSLA',\n 'TXN',\n 'TXT',\n 'TMO',\n 'TJX',\n 'TSCO',\n 'TT',\n 'TDG',\n 'TRV',\n 'TRMB',\n 'TFC',\n 'TWTR',\n 'TYL',\n 'TSN',\n 'USB',\n 'UDR',\n 'ULTA',\n 'UNP',\n 'UAL',\n 'UPS',\n 'URI',\n 'UNH',\n 'UHS',\n 'VLO',\n 'VTR',\n 'VRSN',\n 'VRSK',\n 'VZ',\n 'VRTX',\n 'VFC',\n 'VTRS',\n 'VICI',\n 'V',\n 'VNO',\n 'VMC',\n 'WAB',\n 'WBA',\n 'WMT',\n 'WBD',\n 'WM',\n 'WAT',\n 'WEC',\n 'WFC',\n 'WELL',\n 'WST',\n 'WDC',\n 'WRK',\n 'WY',\n 'WHR',\n 'WMB',\n 'WTW',\n 'GWW',\n 'WYNN',\n 'XEL',\n 'XYL',\n 'YUM',\n 'ZBRA',\n 'ZBH',\n 'ZION',\n 'ZTS']"
     },
     "execution_count": 4,
     "metadata": {},
     "output_type": "execute_result"
    }
   ],
   "source": [
    "stocks"
   ],
   "metadata": {
    "collapsed": false,
    "pycharm": {
     "name": "#%%\n"
    }
   }
  },
  {
   "cell_type": "code",
   "execution_count": 7,
   "outputs": [],
   "source": [
    "def generate_dfs(stocks, calendarYear, volatilityDays, start_date):\n",
    "    dfs = {}\n",
    "    for stock in stocks:\n",
    "        try:\n",
    "            df = generate_df(stock, start_date, volatilityDays, calendarYear)\n",
    "            dfs[stock] = df\n",
    "        except:\n",
    "            pass\n",
    "    return dfs"
   ],
   "metadata": {
    "collapsed": false,
    "pycharm": {
     "name": "#%%\n"
    }
   }
  },
  {
   "cell_type": "code",
   "execution_count": null,
   "outputs": [],
   "source": [],
   "metadata": {
    "collapsed": false,
    "pycharm": {
     "name": "#%%\n"
    }
   }
  },
  {
   "cell_type": "code",
   "execution_count": 8,
   "outputs": [
    {
     "name": "stdout",
     "output_type": "stream",
     "text": [
      "[*********************100%***********************]  1 of 1 completed\n",
      "[*********************100%***********************]  1 of 1 completed\n",
      "[*********************100%***********************]  1 of 1 completed\n",
      "[*********************100%***********************]  1 of 1 completed\n",
      "[*********************100%***********************]  1 of 1 completed\n",
      "[*********************100%***********************]  1 of 1 completed\n",
      "[*********************100%***********************]  1 of 1 completed\n",
      "[*********************100%***********************]  1 of 1 completed\n",
      "[*********************100%***********************]  1 of 1 completed\n",
      "[*********************100%***********************]  1 of 1 completed\n",
      "[*********************100%***********************]  1 of 1 completed\n",
      "[*********************100%***********************]  1 of 1 completed\n",
      "[*********************100%***********************]  1 of 1 completed\n",
      "[*********************100%***********************]  1 of 1 completed\n",
      "[*********************100%***********************]  1 of 1 completed\n",
      "[*********************100%***********************]  1 of 1 completed\n",
      "[*********************100%***********************]  1 of 1 completed\n",
      "[*********************100%***********************]  1 of 1 completed\n",
      "[*********************100%***********************]  1 of 1 completed\n",
      "[*********************100%***********************]  1 of 1 completed\n",
      "[*********************100%***********************]  1 of 1 completed\n",
      "[*********************100%***********************]  1 of 1 completed\n",
      "[*********************100%***********************]  1 of 1 completed\n",
      "[*********************100%***********************]  1 of 1 completed\n",
      "[*********************100%***********************]  1 of 1 completed\n",
      "[*********************100%***********************]  1 of 1 completed\n",
      "[*********************100%***********************]  1 of 1 completed\n",
      "[*********************100%***********************]  1 of 1 completed\n",
      "[*********************100%***********************]  1 of 1 completed\n",
      "[*********************100%***********************]  1 of 1 completed\n",
      "[*********************100%***********************]  1 of 1 completed\n",
      "[*********************100%***********************]  1 of 1 completed\n",
      "[*********************100%***********************]  1 of 1 completed\n",
      "[*********************100%***********************]  1 of 1 completed\n",
      "[*********************100%***********************]  1 of 1 completed\n"
     ]
    }
   ],
   "source": [
    "dfs = generate_dfs(stocks[:35], 365, 50, dt.date(2015, 1, 1))"
   ],
   "metadata": {
    "collapsed": false,
    "pycharm": {
     "name": "#%%\n"
    }
   }
  },
  {
   "cell_type": "code",
   "execution_count": 10,
   "outputs": [
    {
     "data": {
      "text/plain": "           Date  Adj Close Px Change Volatility     Adj Vol\n0    2015-01-02     131.34      None       None        None\n1    2015-01-05     128.38   -0.0228       None        None\n2    2015-01-06     127.01   -0.0107       None        None\n3    2015-01-07     127.93    0.0072       None        None\n4    2015-01-08     131.00    0.0237       None        None\n...         ...        ...       ...        ...         ...\n1881 2022-06-23     130.15   -0.0019   1.081288  171.722449\n1882 2022-06-24     134.33    0.0316   1.145222  181.875991\n1883 2022-06-27     132.80   -0.0115   1.174192    186.4768\n1884 2022-06-28     130.33   -0.0188   1.210006  192.164524\n1885 2022-06-29     129.77   -0.0043   1.262164  200.447886\n\n[1886 rows x 5 columns]",
      "text/html": "<div>\n<style scoped>\n    .dataframe tbody tr th:only-of-type {\n        vertical-align: middle;\n    }\n\n    .dataframe tbody tr th {\n        vertical-align: top;\n    }\n\n    .dataframe thead th {\n        text-align: right;\n    }\n</style>\n<table border=\"1\" class=\"dataframe\">\n  <thead>\n    <tr style=\"text-align: right;\">\n      <th></th>\n      <th>Date</th>\n      <th>Adj Close</th>\n      <th>Px Change</th>\n      <th>Volatility</th>\n      <th>Adj Vol</th>\n    </tr>\n  </thead>\n  <tbody>\n    <tr>\n      <th>0</th>\n      <td>2015-01-02</td>\n      <td>131.34</td>\n      <td>None</td>\n      <td>None</td>\n      <td>None</td>\n    </tr>\n    <tr>\n      <th>1</th>\n      <td>2015-01-05</td>\n      <td>128.38</td>\n      <td>-0.0228</td>\n      <td>None</td>\n      <td>None</td>\n    </tr>\n    <tr>\n      <th>2</th>\n      <td>2015-01-06</td>\n      <td>127.01</td>\n      <td>-0.0107</td>\n      <td>None</td>\n      <td>None</td>\n    </tr>\n    <tr>\n      <th>3</th>\n      <td>2015-01-07</td>\n      <td>127.93</td>\n      <td>0.0072</td>\n      <td>None</td>\n      <td>None</td>\n    </tr>\n    <tr>\n      <th>4</th>\n      <td>2015-01-08</td>\n      <td>131.00</td>\n      <td>0.0237</td>\n      <td>None</td>\n      <td>None</td>\n    </tr>\n    <tr>\n      <th>...</th>\n      <td>...</td>\n      <td>...</td>\n      <td>...</td>\n      <td>...</td>\n      <td>...</td>\n    </tr>\n    <tr>\n      <th>1881</th>\n      <td>2022-06-23</td>\n      <td>130.15</td>\n      <td>-0.0019</td>\n      <td>1.081288</td>\n      <td>171.722449</td>\n    </tr>\n    <tr>\n      <th>1882</th>\n      <td>2022-06-24</td>\n      <td>134.33</td>\n      <td>0.0316</td>\n      <td>1.145222</td>\n      <td>181.875991</td>\n    </tr>\n    <tr>\n      <th>1883</th>\n      <td>2022-06-27</td>\n      <td>132.80</td>\n      <td>-0.0115</td>\n      <td>1.174192</td>\n      <td>186.4768</td>\n    </tr>\n    <tr>\n      <th>1884</th>\n      <td>2022-06-28</td>\n      <td>130.33</td>\n      <td>-0.0188</td>\n      <td>1.210006</td>\n      <td>192.164524</td>\n    </tr>\n    <tr>\n      <th>1885</th>\n      <td>2022-06-29</td>\n      <td>129.77</td>\n      <td>-0.0043</td>\n      <td>1.262164</td>\n      <td>200.447886</td>\n    </tr>\n  </tbody>\n</table>\n<p>1886 rows × 5 columns</p>\n</div>"
     },
     "execution_count": 10,
     "metadata": {},
     "output_type": "execute_result"
    }
   ],
   "source": [
    "dfs[\"MMM\"]"
   ],
   "metadata": {
    "collapsed": false,
    "pycharm": {
     "name": "#%%\n"
    }
   }
  },
  {
   "cell_type": "markdown",
   "source": [],
   "metadata": {
    "collapsed": false,
    "pycharm": {
     "name": "#%% md\n"
    }
   }
  },
  {
   "cell_type": "code",
   "execution_count": 313,
   "outputs": [],
   "source": [
    "mainWorkbook = xlsxwriter.Workbook('trial.xlsx')"
   ],
   "metadata": {
    "collapsed": false,
    "pycharm": {
     "name": "#%%\n"
    }
   }
  },
  {
   "cell_type": "code",
   "execution_count": 11,
   "outputs": [],
   "source": [
    "def writeToWorksheet(df, wb, ticker, calenderYear=365,\n",
    "                      volatilityDays=50):\n",
    "    ws = wb.add_worksheet(ticker)\n",
    "    ws.set_column(0, 0, 12)\n",
    "    ws.set_column(1, 1, 10)\n",
    "    ws.set_column(2, 4, 10)\n",
    "    menu_format = wb.add_format({'bg_color' : '#004481',\n",
    "                                 'font_color' : 'white',\n",
    "                                 'font_name' : 'Arial',\n",
    "                                 'font_size' : 10})\n",
    "    menu_responses = wb.add_format({'font_name' : 'Arial',\n",
    "                                    'font_size' : 10,\n",
    "                                    'align' : 'right'})\n",
    "    olive_background = wb.add_format({'font_name' : 'Arial',\n",
    "                                      'font_size' : 10,\n",
    "                                      'bg_color' : '#cabc96'})\n",
    "    olive_background_pct = wb.add_format({'font_name' : 'Arial',\n",
    "                                          'font_size' : 10,\n",
    "                                          'bg_color' : '#cabc96',\n",
    "                                          'num_format' : '0.00%'})\n",
    "    grey_background = wb.add_format({'font_name' : 'Arial',\n",
    "                                     'font_size' : 10,\n",
    "                                     'bg_color' : '#eff1ef'})\n",
    "    grey_background_num = wb.add_format({'font_name' : 'Arial',\n",
    "                                         'font_size' : 10,\n",
    "                                         'bg_color' : '#eff1ef',\n",
    "                                         'num_format' : '0.00%'})\n",
    "    blue_background = wb.add_format({'font_name' : 'Arial',\n",
    "                                     'font_size' : 10,\n",
    "                                     'bg_color' : '#baeafc'})\n",
    "    menuWords = [\"Source\", \"Ticker\", \"Calendar Year\", \"Volatility Days\",\n",
    "                 \"Start Date\", \"Close\", \"Current\", \"Average\", \"Maximum\",\n",
    "                                                              \"Minimum\"]\n",
    "    for i in range(len(menuWords)):\n",
    "        ws.write(i, 0, menuWords[i], menu_format)\n",
    "    ws.write(0, 1, \"Yahoo\", menu_responses)\n",
    "    ws.write(1, 1, ticker, menu_responses)\n",
    "    ws.write(2, 1, calenderYear, menu_responses)\n",
    "    ws.write(3, 1, volatilityDays, menu_responses)\n",
    "    ws.write(4, 1, df.iloc[0][0].strftime(\"%m/%d/%Y\"), menu_responses)\n",
    "    ws.write(10, 0, \"Date\", grey_background)\n",
    "    ws.write(10, 1, \"Adj Close\", grey_background)\n",
    "    ws.write(10, 2, \"Px Change\", grey_background)\n",
    "    ws.write(10, 3, \"Volatility\", grey_background)\n",
    "    ws.write(5, 1, df.iloc[len(df)-1][1], olive_background)\n",
    "    ws.write(10, 4, \"Adj Vol\", grey_background)\n",
    "    volatilities = (df[\"Volatility\"].tolist())[volatilityDays:]\n",
    "    if len(df) > volatilityDays:\n",
    "        ws.write(6, 1, df.iloc[len(df)-1][3], olive_background_pct)\n",
    "        ws.write(7, 1, statistics.mean(volatilities),\n",
    "                 olive_background_pct)\n",
    "        ws.write(8, 1, max(volatilities), olive_background_pct)\n",
    "        ws.write(9, 1, min(volatilities), olive_background_pct)\n",
    "    for i in range(len(df)):\n",
    "        try:\n",
    "            ws.write(i+11, 0, df.iloc[i][0].strftime(\"%m/%d/%Y\"),\n",
    "                     blue_background)\n",
    "            ws.write(i+11, 1, df.iloc[i][1], blue_background)\n",
    "            ws.write(i+11, 2, df.iloc[i][2], grey_background_num)\n",
    "            ws.write(i+11, 3, df.iloc[i][3], grey_background_num)\n",
    "            ws.write(i+11, 4, df.iloc[i][4], grey_background_num)\n",
    "        except:\n",
    "            pass\n",
    "    chart = wb.add_chart({'type' : 'line'})\n",
    "    numCells = len(df)\n",
    "    chart.add_series({'values' : f'={ticker}!$B$12:$B${str(numCells + 11)}', 'name' : f'={ticker}!$B$11'})\n",
    "    chart.add_series({'values' : f'={ticker}!$E${volatilityDays}:$E${str(numCells + 11)}', 'name' : f'={ticker}!$D$11'})\n",
    "    ws.insert_chart('F11', chart)"
   ],
   "metadata": {
    "collapsed": false,
    "pycharm": {
     "name": "#%%\n"
    }
   }
  },
  {
   "cell_type": "markdown",
   "source": [],
   "metadata": {
    "collapsed": false,
    "pycharm": {
     "name": "#%% md\n"
    }
   }
  },
  {
   "cell_type": "markdown",
   "source": [],
   "metadata": {
    "collapsed": false,
    "pycharm": {
     "name": "#%% md\n"
    }
   }
  },
  {
   "cell_type": "code",
   "execution_count": 315,
   "outputs": [],
   "source": [
    "for stock in stocks:\n",
    "    writeToWorksheet(dfs[stock], mainWorkbook, stock)"
   ],
   "metadata": {
    "collapsed": false,
    "pycharm": {
     "name": "#%%\n"
    }
   }
  },
  {
   "cell_type": "code",
   "execution_count": 316,
   "outputs": [],
   "source": [
    "mainWorkbook.close()"
   ],
   "metadata": {
    "collapsed": false,
    "pycharm": {
     "name": "#%%\n"
    }
   }
  },
  {
   "cell_type": "code",
   "execution_count": 13,
   "outputs": [
    {
     "data": {
      "text/plain": "50      0.501881\n51      0.501239\n52      0.491812\n53       0.46956\n54      0.453973\n          ...   \n1881    1.081288\n1882    1.145222\n1883    1.174192\n1884    1.210006\n1885    1.262164\nName: Volatility, Length: 1836, dtype: object"
     },
     "execution_count": 13,
     "metadata": {},
     "output_type": "execute_result"
    }
   ],
   "source": [
    "dfs[\"MMM\"][\"Volatility\"][50:]"
   ],
   "metadata": {
    "collapsed": false,
    "pycharm": {
     "name": "#%%\n"
    }
   }
  },
  {
   "cell_type": "code",
   "execution_count": 318,
   "outputs": [],
   "source": [
    "volatilities = dfs[\"AMAM\"][\"Volatility\"][50:].tolist()\n",
    "meanVol = statistics.mean(volatilities)\n",
    "prices = dfs[\"AMAM\"][\"Adj Close\"].tolist()\n",
    "meanPrice = statistics.mean(prices)\n",
    "factor = meanPrice / meanVol\n",
    "dfs[\"AMAM\"][\"Adj Vol\"] = dfs[\"AMAM\"][\"Volatility\"] * factor"
   ],
   "metadata": {
    "collapsed": false,
    "pycharm": {
     "name": "#%%\n"
    }
   }
  },
  {
   "cell_type": "code",
   "execution_count": 319,
   "outputs": [
    {
     "data": {
      "text/plain": "0           NaN\n1           NaN\n2           NaN\n3           NaN\n4           NaN\n         ...   \n255    1.879383\n256    2.171699\n257    2.409616\n258    2.761507\n259    3.019244\nName: Adj Vol, Length: 260, dtype: object"
     },
     "execution_count": 319,
     "metadata": {},
     "output_type": "execute_result"
    }
   ],
   "source": [
    "dfs[\"AMAM\"][\"Adj Vol\"]"
   ],
   "metadata": {
    "collapsed": false,
    "pycharm": {
     "name": "#%%\n"
    }
   }
  },
  {
   "cell_type": "code",
   "execution_count": 320,
   "outputs": [
    {
     "data": {
      "text/plain": "<Figure size 432x288 with 1 Axes>",
      "image/png": "[encoded data removed]"
     },
     "metadata": {
      "needs_background": "light"
     },
     "output_type": "display_data"
    }
   ],
   "source": [
    "plt.plot(dfs[\"AMAM\"][\"Date\"], dfs[\"AMAM\"][\"Adj Vol\"])\n",
    "plt.plot(dfs[\"AMAM\"][\"Date\"], dfs[\"AMAM\"][\"Adj Close\"])\n",
    "plt.show()"
   ],
   "metadata": {
    "collapsed": false,
    "pycharm": {
     "name": "#%%\n"
    }
   }
  },
  {
   "cell_type": "code",
   "execution_count": 14,
   "outputs": [],
   "source": [
    "def makeExcelSheets(fileName, companies, start, end):\n",
    "    mainWorkbook = xlsxwriter.Workbook(fileName)\n",
    "    for stock in companies:\n",
    "        df = dfs[stock]\n",
    "        df = df[df[\"Date\"] > start]\n",
    "        df = df[df[\"Date\"] < end]\n",
    "        writeToWorksheet(df, mainWorkbook, stock)\n",
    "    mainWorkbook.close()\n"
   ],
   "metadata": {
    "collapsed": false,
    "pycharm": {
     "name": "#%%\n"
    }
   }
  },
  {
   "cell_type": "code",
   "execution_count": 353,
   "outputs": [],
   "source": [
    "df1 = dfs[\"AAPL\"]\n",
    "df1 = df1[df1[\"Date\"] > dt.datetime(2017, 1, 1)]"
   ],
   "metadata": {
    "collapsed": false,
    "pycharm": {
     "name": "#%%\n"
    }
   }
  },
  {
   "cell_type": "code",
   "execution_count": 354,
   "outputs": [
    {
     "data": {
      "text/plain": "           Date  Adj Close Px Change Volatility     Adj Vol\n504  2017-01-03      27.26    0.0028   0.142102   14.786938\n505  2017-01-04      27.23   -0.0011   0.141777   14.753119\n506  2017-01-05      27.37    0.0051   0.141792    14.75468\n507  2017-01-06      27.67    0.0111   0.141266   14.699945\n508  2017-01-09      27.92    0.0091   0.141655   14.740424\n...         ...        ...       ...        ...         ...\n1881 2022-06-23     138.27    0.0213    2.18082  226.933124\n1882 2022-06-24     141.66    0.0242    2.16214  224.989309\n1883 2022-06-27     141.66       0.0     2.1157  220.156827\n1884 2022-06-28     137.44   -0.0302   2.043363  212.629538\n1885 2022-06-29     139.23    0.0129   2.013067  209.476978\n\n[1382 rows x 5 columns]",
      "text/html": "<div>\n<style scoped>\n    .dataframe tbody tr th:only-of-type {\n        vertical-align: middle;\n    }\n\n    .dataframe tbody tr th {\n        vertical-align: top;\n    }\n\n    .dataframe thead th {\n        text-align: right;\n    }\n</style>\n<table border=\"1\" class=\"dataframe\">\n  <thead>\n    <tr style=\"text-align: right;\">\n      <th></th>\n      <th>Date</th>\n      <th>Adj Close</th>\n      <th>Px Change</th>\n      <th>Volatility</th>\n      <th>Adj Vol</th>\n    </tr>\n  </thead>\n  <tbody>\n    <tr>\n      <th>504</th>\n      <td>2017-01-03</td>\n      <td>27.26</td>\n      <td>0.0028</td>\n      <td>0.142102</td>\n      <td>14.786938</td>\n    </tr>\n    <tr>\n      <th>505</th>\n      <td>2017-01-04</td>\n      <td>27.23</td>\n      <td>-0.0011</td>\n      <td>0.141777</td>\n      <td>14.753119</td>\n    </tr>\n    <tr>\n      <th>506</th>\n      <td>2017-01-05</td>\n      <td>27.37</td>\n      <td>0.0051</td>\n      <td>0.141792</td>\n      <td>14.75468</td>\n    </tr>\n    <tr>\n      <th>507</th>\n      <td>2017-01-06</td>\n      <td>27.67</td>\n      <td>0.0111</td>\n      <td>0.141266</td>\n      <td>14.699945</td>\n    </tr>\n    <tr>\n      <th>508</th>\n      <td>2017-01-09</td>\n      <td>27.92</td>\n      <td>0.0091</td>\n      <td>0.141655</td>\n      <td>14.740424</td>\n    </tr>\n    <tr>\n      <th>...</th>\n      <td>...</td>\n      <td>...</td>\n      <td>...</td>\n      <td>...</td>\n      <td>...</td>\n    </tr>\n    <tr>\n      <th>1881</th>\n      <td>2022-06-23</td>\n      <td>138.27</td>\n      <td>0.0213</td>\n      <td>2.18082</td>\n      <td>226.933124</td>\n    </tr>\n    <tr>\n      <th>1882</th>\n      <td>2022-06-24</td>\n      <td>141.66</td>\n      <td>0.0242</td>\n      <td>2.16214</td>\n      <td>224.989309</td>\n    </tr>\n    <tr>\n      <th>1883</th>\n      <td>2022-06-27</td>\n      <td>141.66</td>\n      <td>0.0</td>\n      <td>2.1157</td>\n      <td>220.156827</td>\n    </tr>\n    <tr>\n      <th>1884</th>\n      <td>2022-06-28</td>\n      <td>137.44</td>\n      <td>-0.0302</td>\n      <td>2.043363</td>\n      <td>212.629538</td>\n    </tr>\n    <tr>\n      <th>1885</th>\n      <td>2022-06-29</td>\n      <td>139.23</td>\n      <td>0.0129</td>\n      <td>2.013067</td>\n      <td>209.476978</td>\n    </tr>\n  </tbody>\n</table>\n<p>1382 rows × 5 columns</p>\n</div>"
     },
     "execution_count": 354,
     "metadata": {},
     "output_type": "execute_result"
    }
   ],
   "source": [
    "df1"
   ],
   "metadata": {
    "collapsed": false,
    "pycharm": {
     "name": "#%%\n"
    }
   }
  },
  {
   "cell_type": "code",
   "execution_count": 31,
   "outputs": [],
   "source": [
    "app = JupyterDash(__name__)\n",
    "\n",
    "app.layout = html.Div([\n",
    "    html.H1(\"Automated Finance Tool\", style={'text-align' : 'center'}),\n",
    "\n",
    "    html.H5(\"Select Companies\", style={'text-align' : 'left'}),\n",
    "\n",
    "    dcc.Dropdown(id=\"slct_ticker\",\n",
    "                 options=[{'label':i, 'value': i} for i in stocks[:35]],\n",
    "                 multi=True),\n",
    "\n",
    "    html.Br(),\n",
    "\n",
    "    html.H5(\"Select Date Range\", style={'text-align' : 'left'}),\n",
    "\n",
    "    dcc.DatePickerSingle(\n",
    "            id='my-date-picker-single',\n",
    "            min_date_allowed=dt.date(2000, 1, 1),\n",
    "            max_date_allowed=dt.date(2022, 3, 1),\n",
    "            initial_visible_month=dt.date(2009, 8, 5),\n",
    "            date=dt.date(2017, 8, 25)\n",
    "        ),\n",
    "\n",
    "    html.Br(),\n",
    "\n",
    "    dcc.DatePickerSingle(\n",
    "                id='my-date-picker-single2',\n",
    "                min_date_allowed=dt.date(2000, 1, 1),\n",
    "                max_date_allowed=dt.date(2022, 3, 1),\n",
    "                initial_visible_month=dt.date(2022, 6, 1),\n",
    "                date=dt.date(2022, 6, 1)\n",
    "            ),\n",
    "\n",
    "    html.Br(),\n",
    "\n",
    "    html.H5(\"Enter a filename (make sure to include 'xlsx')\", style={'text-align' : 'left'}),\n",
    "\n",
    "    dcc.Textarea(\n",
    "        id='textarea-example',\n",
    "        style={'width': '30%', 'height': 30}\n",
    "    ),\n",
    "\n",
    "    html.Br(),\n",
    "\n",
    "    html.Button('Submit', id='button', n_clicks=0),\n",
    "    html.Br(),\n",
    "\n",
    "    html.Div(id='output_container', style={'whiteSpace': 'pre-line'})\n",
    "\n",
    "])\n",
    "\n",
    "@app.callback(\n",
    "    [Output(component_id='output_container', component_property='children')],\n",
    "    [Input('slct_ticker', 'value'),\n",
    "     Input('my-date-picker-single', 'date'),\n",
    "     Input('my-date-picker-single2' ,'date'),\n",
    "     Input('textarea-example', 'value'),\n",
    "     Input('button', 'n_clicks')]\n",
    ")\n",
    "\n",
    "def update(ticker_slctd, start_date, end_date, file_name, num_clicks):\n",
    "    changed_id = [p['prop_id'] for p in callback_context.triggered][0]\n",
    "    if 'button' in changed_id:\n",
    "        makeExcelSheets(file_name, ticker_slctd, start_date, end_date)\n",
    "        return [\"Created file with name \" + file_name]\n",
    "    return [\"\"]\n",
    "\n"
   ],
   "metadata": {
    "collapsed": false,
    "pycharm": {
     "name": "#%%\n"
    }
   }
  },
  {
   "cell_type": "code",
   "execution_count": 27,
   "outputs": [
    {
     "ename": "SyntaxError",
     "evalue": "invalid syntax (575702912.py, line 2)",
     "output_type": "error",
     "traceback": [
      "\u001B[1;36m  Input \u001B[1;32mIn [27]\u001B[1;36m\u001B[0m\n\u001B[1;33m    output = f\"Files created {stonks[i]}\" for i in range(len(stonks))\u001B[0m\n\u001B[1;37m                                          ^\u001B[0m\n\u001B[1;31mSyntaxError\u001B[0m\u001B[1;31m:\u001B[0m invalid syntax\n"
     ]
    }
   ],
   "source": [],
   "metadata": {
    "collapsed": false,
    "pycharm": {
     "name": "#%%\n"
    }
   }
  },
  {
   "cell_type": "code",
   "execution_count": 32,
   "outputs": [
    {
     "name": "stdout",
     "output_type": "stream",
     "text": [
      "Dash app running on http://127.0.0.1:8050/\n"
     ]
    }
   ],
   "source": [
    "app.run_server(mode='external')"
   ],
   "metadata": {
    "collapsed": false,
    "pycharm": {
     "name": "#%%\n"
    }
   }
  }
 ],
 "metadata": {
  "kernelspec": {
   "display_name": "Python 3",
   "language": "python",
   "name": "python3"
  },
  "language_info": {
   "codemirror_mode": {
    "name": "ipython",
    "version": 2
   },
   "file_extension": ".py",
   "mimetype": "text/x-python",
   "name": "python",
   "nbconvert_exporter": "python",
   "pygments_lexer": "ipython2",
   "version": "2.7.6"
  }
 },
 "nbformat": 4,
 "nbformat_minor": 0
}